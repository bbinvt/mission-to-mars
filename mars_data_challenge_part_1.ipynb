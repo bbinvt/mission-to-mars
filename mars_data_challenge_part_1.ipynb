{
 "cells": [
  {
   "cell_type": "code",
   "execution_count": 1,
   "metadata": {},
   "outputs": [],
   "source": [
    "# Import all dependencies\n",
    "from splinter import Browser\n",
    "import selenium\n",
    "from bs4 import BeautifulSoup\n",
    "from webdriver_manager.chrome import ChromeDriverManager\n",
    "\n",
    "executable_path = {'executable_path': ChromeDriverManager().install()}\n",
    "browser = Browser('chrome', **executable_path, headless=False)"
   ]
  },
  {
   "cell_type": "code",
   "execution_count": 2,
   "metadata": {},
   "outputs": [],
   "source": [
    "# Define the URL that we will be scraping\n",
    "url = 'https://redplanetscience.com/'\n",
    "\n",
    "# Command browser to visit url\n",
    "browser.visit(url)\n",
    "# Obtain html code & set up for our examination\n",
    "#html = browser.html\n",
    "#soup = BeautifulSoup(html, 'html.parser')"
   ]
  },
  {
   "cell_type": "code",
   "execution_count": 48,
   "metadata": {},
   "outputs": [],
   "source": [
    "# Deliverable 1: Scraping the Title & Preview Text of Articles from the NASA site\n",
    "\n",
    "# To accomplish this deliverable as efficiently as possible lets create a function. We will be storing our data into individual dictionaries; \\\n",
    "# to capture the dictionaries we can first define an empty list\n",
    "\n",
    "# List of Articlie Info Dictionaries:\n",
    "art_list = []"
   ]
  },
  {
   "cell_type": "code",
   "execution_count": 49,
   "metadata": {},
   "outputs": [],
   "source": [
    "# Lets define our function we will use to collect, parse, and iterate through the html code\n",
    "\n",
    "def get_art_info():\n",
    "\n",
    "    # First step is to call the html & parse\n",
    "    html = browser.html\n",
    "    soup = BeautifulSoup(html, 'html.parser')\n",
    "\n",
    "    # Based on our inspection of the site we can define to areas we will find the title & preview\n",
    "    main_area = soup.find('div', id='news')\n",
    "    articles = main_area.find_all('div', class_='list_text')\n",
    "\n",
    "    # Now we can iterate through to pull find the title & preview text components\n",
    "    for article in articles: \n",
    "\n",
    "        title = article.find('div', class_ = 'content_title').text\n",
    "        prvw = article.find('div', class_= 'article_teaser_body').text.strip()\n",
    "\n",
    "        # Write our results into a Dictionary and append to our article list\n",
    "\n",
    "        art_dict = {\n",
    "            'Title' : title,\n",
    "            'Preview': prvw\n",
    "        }\n",
    "        art_list.append(art_dict)"
   ]
  },
  {
   "cell_type": "code",
   "execution_count": 50,
   "metadata": {},
   "outputs": [],
   "source": [
    "# Execute our funciton\n",
    "get_art_info()"
   ]
  },
  {
   "cell_type": "code",
   "execution_count": 51,
   "metadata": {},
   "outputs": [
    {
     "data": {
      "text/plain": [
       "[{'Title': \"Meet the People Behind NASA's Perseverance Rover\",\n",
       "  'Preview': \"These are the scientists and engineers who built NASA's next Mars rover and who will guide it to a safe landing in Jezero Crater.\"},\n",
       " {'Title': \"Robotic Toolkit Added to NASA's Mars 2020 Rover\",\n",
       "  'Preview': \"The bit carousel, which lies at the heart of the rover's Sample Caching System, is now aboard NASA's newest rover.\"},\n",
       " {'Title': \"A Martian Roundtrip: NASA's Perseverance Rover Sample Tubes\",\n",
       "  'Preview': \"Marvels of engineering, the rover's sample tubes must be tough enough to safely bring Red Planet samples on the long journey back to Earth in immaculate condition.\"},\n",
       " {'Title': \"HiRISE Views NASA's InSight and Curiosity on Mars\",\n",
       "  'Preview': 'New images taken from space offer the clearest orbital glimpse yet of InSight as well as a view of Curiosity rolling along.'},\n",
       " {'Title': \"NASA's Mars 2020 Rover Goes Coast-to-Coast to Prep for Launch\",\n",
       "  'Preview': \"The agency's first step in returning rocks from Mars just arrived at Kennedy Space Center. The Mars 2020 team now begins readying for a launch to the Red Planet this July.\"},\n",
       " {'Title': \"NASA's New Mars Rover Will Use X-Rays to Hunt Fossils\",\n",
       "  'Preview': \"PIXL, an instrument on the end of the Perseverance rover's arm, will search for chemical fingerprints left by ancient microbes.\"},\n",
       " {'Title': 'The MarCO Mission Comes to an End',\n",
       "  'Preview': 'The pair of briefcase-sized satellites made history when they sailed past Mars in 2019.'},\n",
       " {'Title': 'NASA Establishes Board to Initially Review Mars Sample Return Plans',\n",
       "  'Preview': 'The board will assist with analysis of current plans and goals for one of the most difficult missions humanity has ever undertaken.'},\n",
       " {'Title': 'NASA Mars Mission Connects With Bosnian and Herzegovinian Town',\n",
       "  'Preview': 'A letter from NASA was presented to the mayor of Jezero, Bosnia-Herzegovina, honoring the connection between the town and Jezero Crater, the Mars 2020 rover landing site.'},\n",
       " {'Title': \"What's Mars Solar Conjunction, and Why Does It Matter?\",\n",
       "  'Preview': 'NASA spacecraft at Mars are going to be on their own for a few weeks when the Sun comes between Mars and Earth, interrupting communications.'},\n",
       " {'Title': \"Hear Audio From NASA's Perseverance As It Travels Through Deep Space\",\n",
       "  'Preview': \"The first to be rigged with microphones, the agency's latest Mars rover picked up the subtle sounds of its own inner workings during interplanetary flight.\"},\n",
       " {'Title': \"Q&A with the Student Who Named Ingenuity, NASA's Mars Helicopter\",\n",
       "  'Preview': 'As a longtime fan of space exploration, Vaneeza Rupani appreciates the creativity and collaboration involved with trying to fly on another planet.'},\n",
       " {'Title': 'My Culture, My Voice',\n",
       "  'Preview': 'In honor of Hispanic Heritage Month, Christina Hernandez, an instrument engineer on the Mars 2020 mission, talks about her childhood and journey to NASA.'},\n",
       " {'Title': 'NASA Administrator Statement on Moon to Mars Initiative, FY 2021 Budget',\n",
       "  'Preview': \"Jim Bridenstine addresses NASA's ambitious plans for the coming years, including Mars Sample Return.\"},\n",
       " {'Title': \"NASA's Push to Save the Mars InSight Lander's Heat Probe\",\n",
       "  'Preview': \"The scoop on the end of the spacecraft's robotic arm will be used to 'pin' the mole against the wall of its hole.\"}]"
      ]
     },
     "execution_count": 51,
     "metadata": {},
     "output_type": "execute_result"
    }
   ],
   "source": [
    "# Print the list to display our results\n",
    "art_list"
   ]
  },
  {
   "cell_type": "code",
   "execution_count": 55,
   "metadata": {},
   "outputs": [
    {
     "data": {
      "text/html": [
       "<div>\n",
       "<style scoped>\n",
       "    .dataframe tbody tr th:only-of-type {\n",
       "        vertical-align: middle;\n",
       "    }\n",
       "\n",
       "    .dataframe tbody tr th {\n",
       "        vertical-align: top;\n",
       "    }\n",
       "\n",
       "    .dataframe thead th {\n",
       "        text-align: right;\n",
       "    }\n",
       "</style>\n",
       "<table border=\"1\" class=\"dataframe\">\n",
       "  <thead>\n",
       "    <tr style=\"text-align: right;\">\n",
       "      <th></th>\n",
       "      <th>Title</th>\n",
       "      <th>Preview</th>\n",
       "    </tr>\n",
       "  </thead>\n",
       "  <tbody>\n",
       "    <tr>\n",
       "      <th>0</th>\n",
       "      <td>Meet the People Behind NASA's Perseverance Rover</td>\n",
       "      <td>These are the scientists and engineers who bui...</td>\n",
       "    </tr>\n",
       "    <tr>\n",
       "      <th>1</th>\n",
       "      <td>Robotic Toolkit Added to NASA's Mars 2020 Rover</td>\n",
       "      <td>The bit carousel, which lies at the heart of t...</td>\n",
       "    </tr>\n",
       "    <tr>\n",
       "      <th>2</th>\n",
       "      <td>A Martian Roundtrip: NASA's Perseverance Rover...</td>\n",
       "      <td>Marvels of engineering, the rover's sample tub...</td>\n",
       "    </tr>\n",
       "    <tr>\n",
       "      <th>3</th>\n",
       "      <td>HiRISE Views NASA's InSight and Curiosity on Mars</td>\n",
       "      <td>New images taken from space offer the clearest...</td>\n",
       "    </tr>\n",
       "    <tr>\n",
       "      <th>4</th>\n",
       "      <td>NASA's Mars 2020 Rover Goes Coast-to-Coast to ...</td>\n",
       "      <td>The agency's first step in returning rocks fro...</td>\n",
       "    </tr>\n",
       "    <tr>\n",
       "      <th>5</th>\n",
       "      <td>NASA's New Mars Rover Will Use X-Rays to Hunt ...</td>\n",
       "      <td>PIXL, an instrument on the end of the Persever...</td>\n",
       "    </tr>\n",
       "    <tr>\n",
       "      <th>6</th>\n",
       "      <td>The MarCO Mission Comes to an End</td>\n",
       "      <td>The pair of briefcase-sized satellites made hi...</td>\n",
       "    </tr>\n",
       "    <tr>\n",
       "      <th>7</th>\n",
       "      <td>NASA Establishes Board to Initially Review Mar...</td>\n",
       "      <td>The board will assist with analysis of current...</td>\n",
       "    </tr>\n",
       "    <tr>\n",
       "      <th>8</th>\n",
       "      <td>NASA Mars Mission Connects With Bosnian and He...</td>\n",
       "      <td>A letter from NASA was presented to the mayor ...</td>\n",
       "    </tr>\n",
       "    <tr>\n",
       "      <th>9</th>\n",
       "      <td>What's Mars Solar Conjunction, and Why Does It...</td>\n",
       "      <td>NASA spacecraft at Mars are going to be on the...</td>\n",
       "    </tr>\n",
       "    <tr>\n",
       "      <th>10</th>\n",
       "      <td>Hear Audio From NASA's Perseverance As It Trav...</td>\n",
       "      <td>The first to be rigged with microphones, the a...</td>\n",
       "    </tr>\n",
       "    <tr>\n",
       "      <th>11</th>\n",
       "      <td>Q&amp;A with the Student Who Named Ingenuity, NASA...</td>\n",
       "      <td>As a longtime fan of space exploration, Vaneez...</td>\n",
       "    </tr>\n",
       "    <tr>\n",
       "      <th>12</th>\n",
       "      <td>My Culture, My Voice</td>\n",
       "      <td>In honor of Hispanic Heritage Month, Christina...</td>\n",
       "    </tr>\n",
       "    <tr>\n",
       "      <th>13</th>\n",
       "      <td>NASA Administrator Statement on Moon to Mars I...</td>\n",
       "      <td>Jim Bridenstine addresses NASA's ambitious pla...</td>\n",
       "    </tr>\n",
       "    <tr>\n",
       "      <th>14</th>\n",
       "      <td>NASA's Push to Save the Mars InSight Lander's ...</td>\n",
       "      <td>The scoop on the end of the spacecraft's robot...</td>\n",
       "    </tr>\n",
       "  </tbody>\n",
       "</table>\n",
       "</div>"
      ],
      "text/plain": [
       "                                                Title  \\\n",
       "0    Meet the People Behind NASA's Perseverance Rover   \n",
       "1     Robotic Toolkit Added to NASA's Mars 2020 Rover   \n",
       "2   A Martian Roundtrip: NASA's Perseverance Rover...   \n",
       "3   HiRISE Views NASA's InSight and Curiosity on Mars   \n",
       "4   NASA's Mars 2020 Rover Goes Coast-to-Coast to ...   \n",
       "5   NASA's New Mars Rover Will Use X-Rays to Hunt ...   \n",
       "6                   The MarCO Mission Comes to an End   \n",
       "7   NASA Establishes Board to Initially Review Mar...   \n",
       "8   NASA Mars Mission Connects With Bosnian and He...   \n",
       "9   What's Mars Solar Conjunction, and Why Does It...   \n",
       "10  Hear Audio From NASA's Perseverance As It Trav...   \n",
       "11  Q&A with the Student Who Named Ingenuity, NASA...   \n",
       "12                               My Culture, My Voice   \n",
       "13  NASA Administrator Statement on Moon to Mars I...   \n",
       "14  NASA's Push to Save the Mars InSight Lander's ...   \n",
       "\n",
       "                                              Preview  \n",
       "0   These are the scientists and engineers who bui...  \n",
       "1   The bit carousel, which lies at the heart of t...  \n",
       "2   Marvels of engineering, the rover's sample tub...  \n",
       "3   New images taken from space offer the clearest...  \n",
       "4   The agency's first step in returning rocks fro...  \n",
       "5   PIXL, an instrument on the end of the Persever...  \n",
       "6   The pair of briefcase-sized satellites made hi...  \n",
       "7   The board will assist with analysis of current...  \n",
       "8   A letter from NASA was presented to the mayor ...  \n",
       "9   NASA spacecraft at Mars are going to be on the...  \n",
       "10  The first to be rigged with microphones, the a...  \n",
       "11  As a longtime fan of space exploration, Vaneez...  \n",
       "12  In honor of Hispanic Heritage Month, Christina...  \n",
       "13  Jim Bridenstine addresses NASA's ambitious pla...  \n",
       "14  The scoop on the end of the spacecraft's robot...  "
      ]
     },
     "execution_count": 55,
     "metadata": {},
     "output_type": "execute_result"
    }
   ],
   "source": [
    "# We can store this as a dataframe\n",
    "import pandas as pd\n",
    "\n",
    "df = pd.DataFrame(art_list)\n",
    "df"
   ]
  },
  {
   "cell_type": "code",
   "execution_count": 56,
   "metadata": {},
   "outputs": [],
   "source": [
    "browser.quit()"
   ]
  }
 ],
 "metadata": {
  "kernelspec": {
   "display_name": "Python 3.10.6 64-bit",
   "language": "python",
   "name": "python3"
  },
  "language_info": {
   "codemirror_mode": {
    "name": "ipython",
    "version": 3
   },
   "file_extension": ".py",
   "mimetype": "text/x-python",
   "name": "python",
   "nbconvert_exporter": "python",
   "pygments_lexer": "ipython3",
   "version": "3.10.6"
  },
  "orig_nbformat": 4,
  "vscode": {
   "interpreter": {
    "hash": "916dbcbb3f70747c44a77c7bcd40155683ae19c65e1c03b4aa3499c5328201f1"
   }
  }
 },
 "nbformat": 4,
 "nbformat_minor": 2
}
